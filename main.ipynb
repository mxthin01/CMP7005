{
 "cells": [
  {
   "cell_type": "code",
   "execution_count": 1,
   "metadata": {},
   "outputs": [],
   "source": [
    "import pandas as pd\n",
    "import numpy as np\n",
    "import matplotlib.pyplot as plt\n",
    "import seaborn as sns\n",
    "from sklearn.model_selection import train_test_split\n",
    "from sklearn.preprocessing import StandardScaler, LabelEncoder\n",
    "from sklearn.ensemble import RandomForestRegressor\n",
    "from sklearn.metrics import mean_squared_error, r2_score\n",
    "\n",
    "# Load and merge data from multiple sites\n",
    "def load_and_merge_data(folder, site_names):\n",
    "    dfs = []\n",
    "    for site in site_names:\n",
    "        file_path = f\"{folder}PRSA_Data_{site}_20130301-20170228.csv\"\n",
    "        df = pd.read_csv(file_path)\n",
    "        dfs.append(df)\n",
    "    return pd.concat(dfs, ignore_index=True)\n",
    "\n",
    "# Selected sites\n",
    "selected_sites = [\"Aotizhongxin\", \"Changping\", \"Dingling\", \"Dongsi\", \"Guanyuan\"]\n",
    "data_folder = \"PRSA_Data_20130301-20170228/\"\n",
    "\n",
    "# Execute data loading\n",
    "data = load_and_merge_data(data_folder, selected_sites)"
   ]
  },
  {
   "cell_type": "code",
   "execution_count": 2,
   "metadata": {},
   "outputs": [
    {
     "name": "stdout",
     "output_type": "stream",
     "text": [
      "\n",
      "=== Data Overview ===\n",
      "Shape: (175320, 18)\n",
      "\n",
      "Data Types:\n",
      "\n",
      "Missing Values:\n"
     ]
    },
    {
     "data": {
      "text/plain": [
       "No         0.00\n",
       "year       0.00\n",
       "month      0.00\n",
       "day        0.00\n",
       "hour       0.00\n",
       "PM2.5      2.19\n",
       "PM10       1.68\n",
       "SO2        1.96\n",
       "NO2        2.96\n",
       "CO         5.85\n",
       "O3         3.07\n",
       "TEMP       0.09\n",
       "PRES       0.09\n",
       "DEWP       0.09\n",
       "RAIN       0.09\n",
       "wd         0.30\n",
       "WSPM       0.07\n",
       "station    0.00\n",
       "dtype: float64"
      ]
     },
     "execution_count": 2,
     "metadata": {},
     "output_type": "execute_result"
    }
   ],
   "source": [
    "print(\"\\n=== Data Overview ===\")\n",
    "print(f\"Shape: {data.shape}\")\n",
    "print(\"\\nData Types:\")\n",
    "data.dtypes\n",
    "print(\"\\nMissing Values:\")\n",
    "(data.isnull().sum()/len(data)*100).round(2)"
   ]
  }
 ],
 "metadata": {
  "kernelspec": {
   "display_name": "base",
   "language": "python",
   "name": "python3"
  },
  "language_info": {
   "codemirror_mode": {
    "name": "ipython",
    "version": 3
   },
   "file_extension": ".py",
   "mimetype": "text/x-python",
   "name": "python",
   "nbconvert_exporter": "python",
   "pygments_lexer": "ipython3",
   "version": "3.12.7"
  }
 },
 "nbformat": 4,
 "nbformat_minor": 2
}
