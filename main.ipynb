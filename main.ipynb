{
 "cells": [
  {
   "cell_type": "markdown",
   "metadata": {},
   "source": [
    "# Data handling"
   ]
  },
  {
   "cell_type": "code",
   "execution_count": 13,
   "metadata": {},
   "outputs": [],
   "source": [
    "import pandas as pd\n",
    "import numpy as np\n",
    "import matplotlib.pyplot as plt\n",
    "import seaborn as sns\n",
    "from sklearn.model_selection import train_test_split\n",
    "from sklearn.preprocessing import StandardScaler, LabelEncoder\n",
    "from sklearn.ensemble import RandomForestRegressor\n",
    "from sklearn.metrics import mean_squared_error, r2_score\n",
    "import os\n",
    "\n",
    "# Configure plotting style\n",
    "plt.style.use('ggplot')\n",
    "sns.set_palette(\"husl\")\n",
    "%matplotlib inline\n",
    "\n",
    "# Load and merge data from multiple sites\n",
    "def load_and_merge_data(folder, site_names):\n",
    "    dfs = []\n",
    "    for site in site_names:\n",
    "        file_path = f\"{folder}PRSA_Data_{site}_20130301-20170228.csv\"\n",
    "        df = pd.read_csv(file_path)\n",
    "        dfs.append(df)\n",
    "    return pd.concat(dfs, ignore_index=True)\n",
    "\n",
    "\n",
    "def save_merged_data(data, file_path):\n",
    "    try:\n",
    "        os.makedirs(os.path.dirname(file_path), exist_ok=True)\n",
    "        data.to_csv(file_path)\n",
    "        print(f\"Data successfully saved to {file_path}\")\n",
    "    except Exception as e:\n",
    "        print(f\"Error saving data: {e}\")\n",
    "\n",
    "# Selected sites\n",
    "selected_sites = [\"Aotizhongxin\", \"Changping\", \"Dingling\", \"Dongsi\", \"Guanyuan\"]\n",
    "data_folder = \"PRSA_Data_20130301-20170228/\"\n",
    "\n",
    "# Execute data loading\n",
    "data = load_and_merge_data(data_folder, selected_sites)"
   ]
  },
  {
   "cell_type": "markdown",
   "metadata": {},
   "source": [
    "# EDA"
   ]
  },
  {
   "cell_type": "markdown",
   "metadata": {},
   "source": [
    "## Data understanding"
   ]
  },
  {
   "cell_type": "code",
   "execution_count": 14,
   "metadata": {},
   "outputs": [
    {
     "name": "stdout",
     "output_type": "stream",
     "text": [
      "\n",
      "=== Data Overview ===\n",
      "Shape: (175320, 18)\n",
      "\n",
      "Data Types:\n",
      "\n",
      "Missing Values (%):\n"
     ]
    },
    {
     "data": {
      "text/plain": [
       "No         0.00\n",
       "year       0.00\n",
       "month      0.00\n",
       "day        0.00\n",
       "hour       0.00\n",
       "PM2.5      2.19\n",
       "PM10       1.68\n",
       "SO2        1.96\n",
       "NO2        2.96\n",
       "CO         5.85\n",
       "O3         3.07\n",
       "TEMP       0.09\n",
       "PRES       0.09\n",
       "DEWP       0.09\n",
       "RAIN       0.09\n",
       "wd         0.30\n",
       "WSPM       0.07\n",
       "station    0.00\n",
       "dtype: float64"
      ]
     },
     "execution_count": 14,
     "metadata": {},
     "output_type": "execute_result"
    }
   ],
   "source": [
    "print(\"\\n=== Data Overview ===\")\n",
    "print(f\"Shape: {data.shape}\")\n",
    "print(\"\\nData Types:\")\n",
    "data.dtypes\n",
    "print(\"\\nMissing Values (%):\")\n",
    "(data.isnull().sum()/len(data)*100).round(2)"
   ]
  },
  {
   "cell_type": "code",
   "execution_count": 15,
   "metadata": {},
   "outputs": [
    {
     "name": "stdout",
     "output_type": "stream",
     "text": [
      "\n",
      "=== Statistical Summary ===\n",
      "          count          mean           std        min      25%      50%  \\\n",
      "No     175320.0  17532.500000  10122.133783     1.0000  8766.75  17532.5   \n",
      "year   175320.0   2014.662560      1.177200  2013.0000  2014.00   2015.0   \n",
      "month  175320.0      6.522930      3.448713     1.0000     4.00      7.0   \n",
      "day    175320.0     15.729637      8.800117     1.0000     8.00     16.0   \n",
      "hour   175320.0     11.500000      6.922206     0.0000     5.75     11.5   \n",
      "PM2.5  171476.0     77.799974     79.436749     2.0000    19.00     53.0   \n",
      "PM10   172382.0    101.572651     90.510711     2.0000    34.00     78.0   \n",
      "SO2    171890.0     16.042345     21.511385     0.2856     3.00      8.0   \n",
      "NO2    170136.0     48.554262     34.701323     1.0265    22.00     41.0   \n",
      "CO     165061.0   1183.408479   1132.271056   100.0000   500.00    800.0   \n",
      "O3     169946.0     59.166284     56.516353     0.2142    14.00     48.0   \n",
      "TEMP   175154.0     13.642569     11.397480   -16.8000     3.20     14.6   \n",
      "PRES   175160.0   1010.353251     10.523491   982.4000  1001.80   1010.0   \n",
      "DEWP   175154.0      2.341245     13.785600   -35.3000    -9.10      2.9   \n",
      "RAIN   175158.0      0.063920      0.825655     0.0000     0.00      0.0   \n",
      "WSPM   175192.0      1.797071      1.264589     0.0000     1.00      1.5   \n",
      "\n",
      "                75%      max  \n",
      "No     26298.250000  35064.0  \n",
      "year    2016.000000   2017.0  \n",
      "month     10.000000     12.0  \n",
      "day       23.000000     31.0  \n",
      "hour      17.250000     23.0  \n",
      "PM2.5    109.000000    898.0  \n",
      "PM10     141.000000    999.0  \n",
      "SO2       20.000000    341.0  \n",
      "NO2       68.621525    290.0  \n",
      "CO      1500.000000  10000.0  \n",
      "O3        84.000000   1071.0  \n",
      "TEMP      23.300000     41.4  \n",
      "PRES    1018.700000   1042.0  \n",
      "DEWP      14.900000     28.8  \n",
      "RAIN       0.000000     72.5  \n",
      "WSPM       2.300000     11.2  \n"
     ]
    }
   ],
   "source": [
    "# Statistical summary\n",
    "print(\"\\n=== Statistical Summary ===\")\n",
    "print(data.describe().transpose())"
   ]
  },
  {
   "cell_type": "code",
   "execution_count": 16,
   "metadata": {},
   "outputs": [
    {
     "data": {
      "text/html": [
       "<div>\n",
       "<style scoped>\n",
       "    .dataframe tbody tr th:only-of-type {\n",
       "        vertical-align: middle;\n",
       "    }\n",
       "\n",
       "    .dataframe tbody tr th {\n",
       "        vertical-align: top;\n",
       "    }\n",
       "\n",
       "    .dataframe thead th {\n",
       "        text-align: right;\n",
       "    }\n",
       "</style>\n",
       "<table border=\"1\" class=\"dataframe\">\n",
       "  <thead>\n",
       "    <tr style=\"text-align: right;\">\n",
       "      <th></th>\n",
       "      <th>wd</th>\n",
       "      <th>station</th>\n",
       "    </tr>\n",
       "  </thead>\n",
       "  <tbody>\n",
       "    <tr>\n",
       "      <th>count</th>\n",
       "      <td>174800</td>\n",
       "      <td>175320</td>\n",
       "    </tr>\n",
       "    <tr>\n",
       "      <th>unique</th>\n",
       "      <td>16</td>\n",
       "      <td>5</td>\n",
       "    </tr>\n",
       "    <tr>\n",
       "      <th>top</th>\n",
       "      <td>NE</td>\n",
       "      <td>Aotizhongxin</td>\n",
       "    </tr>\n",
       "    <tr>\n",
       "      <th>freq</th>\n",
       "      <td>17262</td>\n",
       "      <td>35064</td>\n",
       "    </tr>\n",
       "  </tbody>\n",
       "</table>\n",
       "</div>"
      ],
      "text/plain": [
       "            wd       station\n",
       "count   174800        175320\n",
       "unique      16             5\n",
       "top         NE  Aotizhongxin\n",
       "freq     17262         35064"
      ]
     },
     "execution_count": 16,
     "metadata": {},
     "output_type": "execute_result"
    }
   ],
   "source": [
    "data.describe(include='object')"
   ]
  },
  {
   "cell_type": "markdown",
   "metadata": {},
   "source": [
    "## Feature engineering"
   ]
  },
  {
   "cell_type": "code",
   "execution_count": 17,
   "metadata": {},
   "outputs": [
    {
     "name": "stderr",
     "output_type": "stream",
     "text": [
      "C:\\Users\\sutir\\AppData\\Local\\Temp\\ipykernel_24964\\3626633084.py:2: FutureWarning: DataFrame.fillna with 'method' is deprecated and will raise in a future version. Use obj.ffill() or obj.bfill() instead.\n",
      "  data.fillna(method='ffill', inplace=True)  # Forward fill for time-series\n"
     ]
    },
    {
     "name": "stdout",
     "output_type": "stream",
     "text": [
      "\n",
      "Initial duplicates: 0\n"
     ]
    }
   ],
   "source": [
    "# Handle missing values\n",
    "data.fillna(method='ffill', inplace=True)  # Forward fill for time-series\n",
    "data.dropna(inplace=True)  # Remove remaining missing values\n",
    "\n",
    "# Remove duplicates\n",
    "print(f\"\\nInitial duplicates: {data.duplicated().sum()}\")\n",
    "data.drop_duplicates(inplace=True)\n",
    "\n",
    "# Feature engineering\n",
    "data['datetime'] = pd.to_datetime(data[['year', 'month', 'day', 'hour']])\n",
    "data.set_index('datetime', inplace=True)\n",
    "data.drop(columns=['No', 'year', 'month', 'day', 'hour'], inplace=True)\n",
    "\n",
    "# Encode categorical variables\n",
    "data = pd.get_dummies(data, columns=['wd'], prefix='wind', drop_first=True)\n",
    "le = LabelEncoder()\n",
    "data['station'] = le.fit_transform(data['station'])\n",
    "\n",
    "# Handle outliers (IQR method)\n",
    "def remove_outliers(df, column):\n",
    "    Q1 = df[column].quantile(0.25)\n",
    "    Q3 = df[column].quantile(0.75)\n",
    "    IQR = Q3 - Q1\n",
    "    return df[~((df[column] < (Q1 - 1.5 * IQR)) | (df[column] > (Q3 + 1.5 * IQR)))]\n",
    "\n",
    "data = remove_outliers(data, 'PM2.5')"
   ]
  },
  {
   "cell_type": "code",
   "execution_count": 19,
   "metadata": {},
   "outputs": [
    {
     "name": "stdout",
     "output_type": "stream",
     "text": [
      "Data successfully saved to ./merged_air_quality.csv\n"
     ]
    }
   ],
   "source": [
    "# Save the data for GUI app development\n",
    "save_merged_data(data, \"./merged_air_quality.csv\")"
   ]
  },
  {
   "cell_type": "markdown",
   "metadata": {},
   "source": [
    "## Data Visualisation"
   ]
  },
  {
   "cell_type": "markdown",
   "metadata": {},
   "source": [
    "# Model "
   ]
  }
 ],
 "metadata": {
  "kernelspec": {
   "display_name": "base",
   "language": "python",
   "name": "python3"
  },
  "language_info": {
   "codemirror_mode": {
    "name": "ipython",
    "version": 3
   },
   "file_extension": ".py",
   "mimetype": "text/x-python",
   "name": "python",
   "nbconvert_exporter": "python",
   "pygments_lexer": "ipython3",
   "version": "3.12.7"
  }
 },
 "nbformat": 4,
 "nbformat_minor": 2
}
